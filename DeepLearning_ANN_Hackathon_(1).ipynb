{
  "nbformat": 4,
  "nbformat_minor": 0,
  "metadata": {
    "colab": {
      "name": "DeepLearning_ANN_Hackathon .ipynb",
      "version": "0.3.2",
      "provenance": [],
      "collapsed_sections": []
    },
    "kernelspec": {
      "name": "python3",
      "display_name": "Python 3"
    }
  },
  "cells": [
    {
      "metadata": {
        "id": "PawFmXbt6mzN",
        "colab_type": "text"
      },
      "cell_type": "markdown",
      "source": [
        "# Deep learning hackathon \n",
        " \n",
        "\n",
        "*   **Candidat :  BERRIMI Mohamed **\n",
        "\n",
        "*   **Approach : Artificial neural networks**\n",
        "\n",
        "*   **Accuracy : 78.5 %**\n",
        "\n",
        "\n",
        "\n",
        "\n"
      ]
    },
    {
      "metadata": {
        "id": "ho54DgiU3AZz",
        "colab_type": "text"
      },
      "cell_type": "markdown",
      "source": [
        "**#Using Artificial neural networks to recognize Arabic handwritten characters **"
      ]
    },
    {
      "metadata": {
        "id": "ITTlc9Nz9Bu0",
        "colab_type": "code",
        "outputId": "59a0c32c-35f6-42d2-dc18-2bc1288ef5ca",
        "colab": {
          "base_uri": "https://localhost:8080/",
          "height": 34
        }
      },
      "cell_type": "code",
      "source": [
        "# Load the Drive helper and mount\n",
        "from google.colab import drive\n",
        "\n",
        "# This will prompt for authorization.\n",
        "drive.mount('/content/drive')"
      ],
      "execution_count": 0,
      "outputs": [
        {
          "output_type": "stream",
          "text": [
            "Drive already mounted at /content/drive; to attempt to forcibly remount, call drive.mount(\"/content/drive\", force_remount=True).\n"
          ],
          "name": "stdout"
        }
      ]
    },
    {
      "metadata": {
        "id": "tEQ97YM89lCo",
        "colab_type": "code",
        "colab": {}
      },
      "cell_type": "code",
      "source": [
        "import pandas as pd \n",
        "import numpy as np \n",
        "import matplotlib.pyplot as plt \n",
        "import seaborn as sys\n",
        "\n"
      ],
      "execution_count": 0,
      "outputs": []
    },
    {
      "metadata": {
        "id": "eij8BTal3PyG",
        "colab_type": "text"
      },
      "cell_type": "markdown",
      "source": [
        "**Importing the data **"
      ]
    },
    {
      "metadata": {
        "id": "7PvoyemF9m9q",
        "colab_type": "code",
        "outputId": "140dfdff-59d9-43cb-d69f-f949875e600b",
        "colab": {
          "base_uri": "https://localhost:8080/",
          "height": 330
        }
      },
      "cell_type": "code",
      "source": [
        "!ls \"/content/drive/My Drive/faculte\"\n",
        "import pandas as pd \n",
        "y_test = pd.read_csv('/content/drive/My Drive/faculte/csvTestLabel.csv')\n",
        "x_train = pd.read_csv('/content/drive/My Drive/faculte/csvTrainImages.csv')\n",
        "y_train = pd.read_csv('/content/drive/My Drive/faculte/csvTrainLabel.csv')\n",
        "X_test =  pd.read_csv('/content/drive/My Drive/Faculte/csvTestImages.csv')"
      ],
      "execution_count": 0,
      "outputs": [
        {
          "output_type": "stream",
          "text": [
            "1.jpg\t\t    enseignant.php\t    log.png\n",
            "1.png\t\t    enseignantphysique.php  maths.php\n",
            "acts.php\t    fetch.php\t\t    MI.php\n",
            "actualite-info.php  fetchpyhsique.php\t    notes.php\n",
            "admin\t\t    gradien.svg\t\t    particles.js\n",
            "admin.png\t    hover.js\t\t    PHPExcel\n",
            "a.jpg\t\t    img\t\t\t    PHPExcel-1.8\n",
            "back.jpg\t    IMG_7591.JPG\t    physique.php\n",
            "b.jpg\t\t    import.php\t\t    planing\n",
            "chimi.php\t    includes\t\t    planing.php\n",
            "csvTestLabel.csv    index.php\t\t    profile.php\n",
            "csvTrainImages.csv  informatique.php\t    SM.php\n",
            "csvTrainLabel.csv   init.php\t\t    student.png\n",
            "data.csv\t    insert-etudiant.php     teacher\n",
            "downloads\t    insertex.php\t    TelechargementComp.php\n",
            "downloads-info.php  layout\t\t    telechargementPOO.php\n",
            "downloads.php\t    login.php\t\t    uploads\n",
            "edit.php\t    logout.php\n"
          ],
          "name": "stdout"
        }
      ]
    },
    {
      "metadata": {
        "id": "DVKEwTkV90sp",
        "colab_type": "code",
        "colab": {}
      },
      "cell_type": "code",
      "source": [
        ""
      ],
      "execution_count": 0,
      "outputs": []
    },
    {
      "metadata": {
        "id": "V2K447_uAPmJ",
        "colab_type": "code",
        "colab": {}
      },
      "cell_type": "code",
      "source": [
        ""
      ],
      "execution_count": 0,
      "outputs": []
    },
    {
      "metadata": {
        "id": "4e4Ck30S3U5O",
        "colab_type": "text"
      },
      "cell_type": "markdown",
      "source": [
        "**Fearture scaling to normalize the data **"
      ]
    },
    {
      "metadata": {
        "id": "Y0JRn4Bh-A5V",
        "colab_type": "code",
        "colab": {}
      },
      "cell_type": "code",
      "source": [
        "# Feature Scaling\n",
        "from sklearn.preprocessing import StandardScaler\n",
        "sc = StandardScaler()\n",
        "X_train = sc.fit_transform(x_train)\n",
        "X_test = sc.transform(X_test)"
      ],
      "execution_count": 0,
      "outputs": []
    },
    {
      "metadata": {
        "id": "Gb1Ykjin3Zn_",
        "colab_type": "text"
      },
      "cell_type": "markdown",
      "source": [
        "**One hot encoding the y_train and y_test **\n",
        "***Keras workd with one hot endoded variables ***"
      ]
    },
    {
      "metadata": {
        "id": "L8L5Fozc-f12",
        "colab_type": "code",
        "outputId": "b01b0a3a-cac1-4a8a-9295-10f94b3c58bd",
        "colab": {
          "base_uri": "https://localhost:8080/",
          "height": 34
        }
      },
      "cell_type": "code",
      "source": [
        "from keras.utils.np_utils import to_categorical\n",
        "\n",
        "# one hot encode outputs\n",
        "y_train = to_categorical(y_train)\n",
        "y_test = to_categorical(y_test)\n",
        "num_classes = y_train.shape[1]\n"
      ],
      "execution_count": 0,
      "outputs": [
        {
          "output_type": "stream",
          "text": [
            "Using TensorFlow backend.\n"
          ],
          "name": "stderr"
        }
      ]
    },
    {
      "metadata": {
        "id": "yp2Tx41D3lWm",
        "colab_type": "text"
      },
      "cell_type": "markdown",
      "source": [
        "**Create the ANN architecture using Keras **"
      ]
    },
    {
      "metadata": {
        "id": "RplhA8T9GgiM",
        "colab_type": "code",
        "colab": {}
      },
      "cell_type": "code",
      "source": [
        "import argparse\n",
        "import math\n",
        "import sys\n",
        "import time\n",
        "import copy\n",
        "\n",
        "import keras\n",
        "from keras.models import Sequential, Model\n",
        "from keras.layers import Dense, Dropout, Flatten, Activation, BatchNormalization, regularizers\n",
        "from keras.layers.noise import GaussianNoise\n",
        "from keras.layers import Conv2D, MaxPooling2D\n",
        "from keras import backend as K\n",
        "from keras.callbacks import ModelCheckpoint, EarlyStopping\n",
        "from keras.utils.np_utils import to_categorical\n",
        "import pandas as pd \n",
        "import numpy as np \n",
        "import matplotlib.pyplot as plt "
      ],
      "execution_count": 0,
      "outputs": []
    },
    {
      "metadata": {
        "id": "1Wz7YJuq3qbv",
        "colab_type": "text"
      },
      "cell_type": "markdown",
      "source": [
        "**The ANN architecture **\n",
        "**bold text**\n",
        "\n",
        "---\n",
        "\n",
        "\n",
        "\n",
        "1.   The input layer containt 1024 input dim ( 32X32) with activation function relu , this input layer is connected with a hidden layer that contains *527* neurons ~ (1024+28)/2\n",
        "2.   Dropout (0.1) to avoid *overfitting* (Regularization)\n",
        "2.   BatchNormalization  :  to avoid overfitting (Regularization)\n",
        "4. 2 other hidden layers , as activation function *relu*  \n",
        "5. Output layer with 28 neuron (number of classes ) with activation function ''Softmax'\n",
        "6. fit this model on the data 100 times , with evey 130 charcters , backpropagate and  re-calcule the weights of the neurons \n",
        "\n",
        "\n"
      ]
    },
    {
      "metadata": {
        "id": "zX9ASJnxP1Wz",
        "colab_type": "code",
        "outputId": "a0cf6f23-2ad7-4bc9-b97f-029968627fd0",
        "colab": {
          "base_uri": "https://localhost:8080/",
          "height": 4550
        }
      },
      "cell_type": "code",
      "source": [
        "\n",
        "classifier = Sequential()\n",
        "\n",
        "# Adding the input layer and the first hidden layer\n",
        "classifier.add(Dense(units = 527, kernel_initializer = 'uniform', activation = 'relu', input_dim = 1024))\n",
        "# Adding the second hidden layer\n",
        "classifier.add(Dropout(0.1))\n",
        "\n",
        "\n",
        "classifier.add(Dense(units = 277, kernel_initializer = 'uniform', activation = 'relu'))\n",
        "# Adding the second hidden layer\n",
        "\n",
        "classifier.add(Dense(units = 110, kernel_initializer = 'uniform', activation = 'relu'))\n",
        "classifier.add(BatchNormalization())\n",
        "classifier.add(Dropout(0.1))\n",
        "\n",
        "# Adding the third hidden layer\n",
        "classifier.add(Dense(units = 50, kernel_initializer = 'uniform', activation = 'relu'))\n",
        "classifier.add(BatchNormalization())\n",
        "# Adding the output layer\n",
        "classifier.add(Dense(units = 29, kernel_initializer = 'uniform', activation = 'softmax'))\n",
        "\n",
        "# Compiling the ANN\n",
        "classifier.compile(optimizer = 'adam', loss = 'categorical_crossentropy', metrics = ['accuracy'])\n",
        "\n",
        "# Fitting the ANN to the Training set\n",
        "classifier.fit(X_train, y_train, batch_size = 50, epochs = 130)\n"
      ],
      "execution_count": 0,
      "outputs": [
        {
          "output_type": "stream",
          "text": [
            "Epoch 1/130\n",
            "13439/13439 [==============================] - 10s 743us/step - loss: 2.2715 - acc: 0.3312\n",
            "Epoch 2/130\n",
            "13439/13439 [==============================] - 7s 499us/step - loss: 1.3407 - acc: 0.5486\n",
            "Epoch 3/130\n",
            "13439/13439 [==============================] - 7s 528us/step - loss: 0.9907 - acc: 0.6540\n",
            "Epoch 4/130\n",
            "13439/13439 [==============================] - 7s 518us/step - loss: 0.8014 - acc: 0.7159\n",
            "Epoch 5/130\n",
            "13439/13439 [==============================] - 7s 509us/step - loss: 0.6528 - acc: 0.7710\n",
            "Epoch 6/130\n",
            "13439/13439 [==============================] - 7s 523us/step - loss: 0.5556 - acc: 0.8039\n",
            "Epoch 7/130\n",
            "13439/13439 [==============================] - 7s 518us/step - loss: 0.4857 - acc: 0.8260\n",
            "Epoch 8/130\n",
            "13439/13439 [==============================] - 7s 521us/step - loss: 0.4090 - acc: 0.8562\n",
            "Epoch 9/130\n",
            "13439/13439 [==============================] - 7s 520us/step - loss: 0.3598 - acc: 0.8754\n",
            "Epoch 10/130\n",
            "13439/13439 [==============================] - 7s 515us/step - loss: 0.3159 - acc: 0.8893\n",
            "Epoch 11/130\n",
            "13439/13439 [==============================] - 7s 522us/step - loss: 0.2868 - acc: 0.8996\n",
            "Epoch 12/130\n",
            "13439/13439 [==============================] - 7s 519us/step - loss: 0.2500 - acc: 0.9145\n",
            "Epoch 13/130\n",
            "13439/13439 [==============================] - 7s 521us/step - loss: 0.2372 - acc: 0.9175\n",
            "Epoch 14/130\n",
            "13439/13439 [==============================] - 7s 529us/step - loss: 0.2144 - acc: 0.9248\n",
            "Epoch 15/130\n",
            "13439/13439 [==============================] - 8s 574us/step - loss: 0.1883 - acc: 0.9353\n",
            "Epoch 16/130\n",
            "13439/13439 [==============================] - 7s 539us/step - loss: 0.1760 - acc: 0.9388\n",
            "Epoch 17/130\n",
            "13439/13439 [==============================] - 7s 503us/step - loss: 0.1777 - acc: 0.9370\n",
            "Epoch 18/130\n",
            "13439/13439 [==============================] - 7s 522us/step - loss: 0.1617 - acc: 0.9464\n",
            "Epoch 19/130\n",
            "13439/13439 [==============================] - 7s 519us/step - loss: 0.1507 - acc: 0.9504\n",
            "Epoch 20/130\n",
            "13439/13439 [==============================] - 7s 513us/step - loss: 0.1203 - acc: 0.9594\n",
            "Epoch 21/130\n",
            "13439/13439 [==============================] - 7s 490us/step - loss: 0.1342 - acc: 0.9559\n",
            "Epoch 22/130\n",
            "13439/13439 [==============================] - 7s 496us/step - loss: 0.1376 - acc: 0.9533\n",
            "Epoch 23/130\n",
            "13439/13439 [==============================] - 7s 507us/step - loss: 0.1074 - acc: 0.9658\n",
            "Epoch 24/130\n",
            "13439/13439 [==============================] - 7s 506us/step - loss: 0.1002 - acc: 0.9685\n",
            "Epoch 25/130\n",
            "13439/13439 [==============================] - 7s 500us/step - loss: 0.1055 - acc: 0.9652\n",
            "Epoch 26/130\n",
            "13439/13439 [==============================] - 7s 515us/step - loss: 0.1160 - acc: 0.9620\n",
            "Epoch 27/130\n",
            "13439/13439 [==============================] - 7s 521us/step - loss: 0.1126 - acc: 0.9633\n",
            "Epoch 28/130\n",
            "13439/13439 [==============================] - 7s 521us/step - loss: 0.0984 - acc: 0.9669\n",
            "Epoch 29/130\n",
            "13439/13439 [==============================] - 7s 521us/step - loss: 0.0797 - acc: 0.9737\n",
            "Epoch 30/130\n",
            "13439/13439 [==============================] - 7s 521us/step - loss: 0.0876 - acc: 0.9712\n",
            "Epoch 31/130\n",
            "13439/13439 [==============================] - 7s 522us/step - loss: 0.0872 - acc: 0.9708\n",
            "Epoch 32/130\n",
            "13439/13439 [==============================] - 7s 533us/step - loss: 0.0893 - acc: 0.9688\n",
            "Epoch 33/130\n",
            "13439/13439 [==============================] - 7s 532us/step - loss: 0.0707 - acc: 0.9757\n",
            "Epoch 34/130\n",
            "13439/13439 [==============================] - 7s 528us/step - loss: 0.0827 - acc: 0.9743\n",
            "Epoch 35/130\n",
            "13439/13439 [==============================] - 7s 532us/step - loss: 0.0925 - acc: 0.9707\n",
            "Epoch 36/130\n",
            "13439/13439 [==============================] - 7s 532us/step - loss: 0.0854 - acc: 0.9725\n",
            "Epoch 37/130\n",
            "13439/13439 [==============================] - 7s 528us/step - loss: 0.0808 - acc: 0.9732\n",
            "Epoch 38/130\n",
            "13439/13439 [==============================] - 7s 532us/step - loss: 0.0725 - acc: 0.9778\n",
            "Epoch 39/130\n",
            "13439/13439 [==============================] - 7s 524us/step - loss: 0.0607 - acc: 0.9798\n",
            "Epoch 40/130\n",
            "13439/13439 [==============================] - 7s 523us/step - loss: 0.0625 - acc: 0.9807\n",
            "Epoch 41/130\n",
            "13439/13439 [==============================] - 7s 524us/step - loss: 0.0669 - acc: 0.9785\n",
            "Epoch 42/130\n",
            "13439/13439 [==============================] - 7s 517us/step - loss: 0.0696 - acc: 0.9776\n",
            "Epoch 43/130\n",
            "13439/13439 [==============================] - 7s 484us/step - loss: 0.0602 - acc: 0.9811\n",
            "Epoch 44/130\n",
            "13439/13439 [==============================] - 7s 501us/step - loss: 0.0738 - acc: 0.9758\n",
            "Epoch 45/130\n",
            "13439/13439 [==============================] - 7s 497us/step - loss: 0.0687 - acc: 0.9760\n",
            "Epoch 46/130\n",
            "13439/13439 [==============================] - 7s 493us/step - loss: 0.0621 - acc: 0.9804\n",
            "Epoch 47/130\n",
            "13439/13439 [==============================] - 7s 510us/step - loss: 0.0676 - acc: 0.9788\n",
            "Epoch 48/130\n",
            "13439/13439 [==============================] - 7s 501us/step - loss: 0.0608 - acc: 0.9790\n",
            "Epoch 49/130\n",
            "13439/13439 [==============================] - 7s 502us/step - loss: 0.0551 - acc: 0.9839\n",
            "Epoch 50/130\n",
            "13439/13439 [==============================] - 7s 493us/step - loss: 0.0522 - acc: 0.9818\n",
            "Epoch 51/130\n",
            "13439/13439 [==============================] - 7s 500us/step - loss: 0.0596 - acc: 0.9823\n",
            "Epoch 52/130\n",
            "13439/13439 [==============================] - 7s 499us/step - loss: 0.0486 - acc: 0.9842\n",
            "Epoch 53/130\n",
            "13439/13439 [==============================] - 7s 492us/step - loss: 0.0513 - acc: 0.9839\n",
            "Epoch 54/130\n",
            "13439/13439 [==============================] - 7s 498us/step - loss: 0.0547 - acc: 0.9814\n",
            "Epoch 55/130\n",
            "13439/13439 [==============================] - 7s 509us/step - loss: 0.0460 - acc: 0.9847\n",
            "Epoch 56/130\n",
            "13439/13439 [==============================] - 7s 492us/step - loss: 0.0627 - acc: 0.9809\n",
            "Epoch 57/130\n",
            "13439/13439 [==============================] - 7s 498us/step - loss: 0.0542 - acc: 0.9821\n",
            "Epoch 58/130\n",
            "13439/13439 [==============================] - 7s 492us/step - loss: 0.0401 - acc: 0.9871\n",
            "Epoch 59/130\n",
            "13439/13439 [==============================] - 7s 510us/step - loss: 0.0430 - acc: 0.9872\n",
            "Epoch 60/130\n",
            "13439/13439 [==============================] - 7s 530us/step - loss: 0.0535 - acc: 0.9833\n",
            "Epoch 61/130\n",
            "13439/13439 [==============================] - 7s 514us/step - loss: 0.0525 - acc: 0.9831\n",
            "Epoch 62/130\n",
            "13439/13439 [==============================] - 7s 501us/step - loss: 0.0450 - acc: 0.9864\n",
            "Epoch 63/130\n",
            "13439/13439 [==============================] - 7s 488us/step - loss: 0.0425 - acc: 0.9861\n",
            "Epoch 64/130\n",
            "13439/13439 [==============================] - 7s 512us/step - loss: 0.0450 - acc: 0.9848\n",
            "Epoch 65/130\n",
            "13439/13439 [==============================] - 7s 509us/step - loss: 0.0439 - acc: 0.9858\n",
            "Epoch 66/130\n",
            "13439/13439 [==============================] - 7s 506us/step - loss: 0.0415 - acc: 0.9872\n",
            "Epoch 67/130\n",
            "13439/13439 [==============================] - 7s 507us/step - loss: 0.0414 - acc: 0.9868\n",
            "Epoch 68/130\n",
            "13439/13439 [==============================] - 7s 506us/step - loss: 0.0330 - acc: 0.9891\n",
            "Epoch 69/130\n",
            "13439/13439 [==============================] - 7s 508us/step - loss: 0.0408 - acc: 0.9875\n",
            "Epoch 70/130\n",
            "13439/13439 [==============================] - 7s 507us/step - loss: 0.0397 - acc: 0.9877\n",
            "Epoch 71/130\n",
            "13439/13439 [==============================] - 7s 518us/step - loss: 0.0306 - acc: 0.9905\n",
            "Epoch 72/130\n",
            "13439/13439 [==============================] - 7s 515us/step - loss: 0.0402 - acc: 0.9876\n",
            "Epoch 73/130\n",
            "13439/13439 [==============================] - 7s 518us/step - loss: 0.0440 - acc: 0.9865\n",
            "Epoch 74/130\n",
            "13439/13439 [==============================] - 7s 518us/step - loss: 0.0427 - acc: 0.9871\n",
            "Epoch 75/130\n",
            "13439/13439 [==============================] - 7s 518us/step - loss: 0.0384 - acc: 0.9875\n",
            "Epoch 76/130\n",
            "13439/13439 [==============================] - 7s 522us/step - loss: 0.0335 - acc: 0.9885\n",
            "Epoch 77/130\n",
            "13439/13439 [==============================] - 7s 520us/step - loss: 0.0382 - acc: 0.9891\n",
            "Epoch 78/130\n",
            "13439/13439 [==============================] - 7s 522us/step - loss: 0.0390 - acc: 0.9875\n",
            "Epoch 79/130\n",
            "13439/13439 [==============================] - 7s 518us/step - loss: 0.0332 - acc: 0.9890\n",
            "Epoch 80/130\n",
            "13439/13439 [==============================] - 7s 518us/step - loss: 0.0385 - acc: 0.9866\n",
            "Epoch 81/130\n",
            "13439/13439 [==============================] - 7s 517us/step - loss: 0.0346 - acc: 0.9890\n",
            "Epoch 82/130\n",
            "13439/13439 [==============================] - 7s 512us/step - loss: 0.0378 - acc: 0.9878\n",
            "Epoch 83/130\n",
            "13439/13439 [==============================] - 7s 514us/step - loss: 0.0418 - acc: 0.9869\n",
            "Epoch 84/130\n",
            "13439/13439 [==============================] - 7s 510us/step - loss: 0.0385 - acc: 0.9871\n",
            "Epoch 85/130\n",
            "13439/13439 [==============================] - 7s 503us/step - loss: 0.0316 - acc: 0.9906\n",
            "Epoch 86/130\n",
            "13439/13439 [==============================] - 7s 502us/step - loss: 0.0330 - acc: 0.9897\n",
            "Epoch 87/130\n",
            "13439/13439 [==============================] - 7s 504us/step - loss: 0.0289 - acc: 0.9920\n",
            "Epoch 88/130\n",
            "13439/13439 [==============================] - 7s 503us/step - loss: 0.0383 - acc: 0.9893\n",
            "Epoch 89/130\n",
            "13439/13439 [==============================] - 7s 504us/step - loss: 0.0330 - acc: 0.9894\n",
            "Epoch 90/130\n",
            "13439/13439 [==============================] - 7s 506us/step - loss: 0.0323 - acc: 0.9895\n",
            "Epoch 91/130\n",
            "13439/13439 [==============================] - 7s 499us/step - loss: 0.0260 - acc: 0.9924\n",
            "Epoch 92/130\n",
            "13439/13439 [==============================] - 7s 507us/step - loss: 0.0279 - acc: 0.9905\n",
            "Epoch 93/130\n",
            "13439/13439 [==============================] - 7s 510us/step - loss: 0.0363 - acc: 0.9891\n",
            "Epoch 94/130\n",
            "13439/13439 [==============================] - 7s 508us/step - loss: 0.0391 - acc: 0.9876\n",
            "Epoch 95/130\n",
            "13439/13439 [==============================] - 7s 515us/step - loss: 0.0332 - acc: 0.9897\n",
            "Epoch 96/130\n",
            "13439/13439 [==============================] - 7s 511us/step - loss: 0.0245 - acc: 0.9928\n",
            "Epoch 97/130\n",
            "13439/13439 [==============================] - 7s 519us/step - loss: 0.0236 - acc: 0.9926\n",
            "Epoch 98/130\n",
            "13439/13439 [==============================] - 7s 518us/step - loss: 0.0225 - acc: 0.9920\n",
            "Epoch 99/130\n",
            "13439/13439 [==============================] - 7s 521us/step - loss: 0.0303 - acc: 0.9901\n",
            "Epoch 100/130\n",
            "13439/13439 [==============================] - 7s 514us/step - loss: 0.0314 - acc: 0.9900\n",
            "Epoch 101/130\n",
            "13439/13439 [==============================] - 7s 511us/step - loss: 0.0278 - acc: 0.9911\n",
            "Epoch 102/130\n",
            "13439/13439 [==============================] - 7s 515us/step - loss: 0.0257 - acc: 0.9916\n",
            "Epoch 103/130\n",
            "13439/13439 [==============================] - 7s 521us/step - loss: 0.0241 - acc: 0.9923\n",
            "Epoch 104/130\n",
            "13439/13439 [==============================] - 7s 517us/step - loss: 0.0234 - acc: 0.9924\n",
            "Epoch 105/130\n",
            "13439/13439 [==============================] - 7s 536us/step - loss: 0.0260 - acc: 0.9904\n",
            "Epoch 106/130\n",
            "13439/13439 [==============================] - 7s 524us/step - loss: 0.0352 - acc: 0.9890\n",
            "Epoch 107/130\n",
            "13439/13439 [==============================] - 7s 509us/step - loss: 0.0256 - acc: 0.9925\n",
            "Epoch 108/130\n",
            "13439/13439 [==============================] - 7s 516us/step - loss: 0.0259 - acc: 0.9926\n",
            "Epoch 109/130\n",
            "13439/13439 [==============================] - 7s 509us/step - loss: 0.0221 - acc: 0.9933\n",
            "Epoch 110/130\n",
            "13439/13439 [==============================] - 7s 505us/step - loss: 0.0288 - acc: 0.9897\n",
            "Epoch 111/130\n",
            "13439/13439 [==============================] - 7s 503us/step - loss: 0.0259 - acc: 0.9924\n",
            "Epoch 112/130\n",
            "13439/13439 [==============================] - 7s 503us/step - loss: 0.0318 - acc: 0.9909\n",
            "Epoch 113/130\n",
            "13439/13439 [==============================] - 7s 508us/step - loss: 0.0290 - acc: 0.9910\n",
            "Epoch 114/130\n",
            "13439/13439 [==============================] - 7s 512us/step - loss: 0.0248 - acc: 0.9928\n",
            "Epoch 115/130\n",
            "13439/13439 [==============================] - 7s 510us/step - loss: 0.0248 - acc: 0.9922\n",
            "Epoch 116/130\n",
            "13439/13439 [==============================] - 7s 495us/step - loss: 0.0242 - acc: 0.9914\n",
            "Epoch 117/130\n",
            "13439/13439 [==============================] - 7s 492us/step - loss: 0.0206 - acc: 0.9937\n",
            "Epoch 118/130\n",
            "13439/13439 [==============================] - 7s 502us/step - loss: 0.0201 - acc: 0.9936\n",
            "Epoch 119/130\n",
            "13439/13439 [==============================] - 7s 505us/step - loss: 0.0205 - acc: 0.9940\n",
            "Epoch 120/130\n",
            "13439/13439 [==============================] - 7s 490us/step - loss: 0.0253 - acc: 0.9921\n",
            "Epoch 121/130\n",
            "13439/13439 [==============================] - 7s 486us/step - loss: 0.0226 - acc: 0.9926\n",
            "Epoch 122/130\n",
            "13439/13439 [==============================] - 6s 477us/step - loss: 0.0220 - acc: 0.9919\n",
            "Epoch 123/130\n",
            "13439/13439 [==============================] - 6s 483us/step - loss: 0.0242 - acc: 0.9932\n",
            "Epoch 124/130\n",
            "13439/13439 [==============================] - 7s 490us/step - loss: 0.0217 - acc: 0.9931\n",
            "Epoch 125/130\n",
            "13439/13439 [==============================] - 7s 487us/step - loss: 0.0222 - acc: 0.9930\n",
            "Epoch 126/130\n",
            "13439/13439 [==============================] - 7s 494us/step - loss: 0.0201 - acc: 0.9932\n",
            "Epoch 127/130\n",
            "13439/13439 [==============================] - 7s 495us/step - loss: 0.0245 - acc: 0.9929\n",
            "Epoch 128/130\n",
            "13439/13439 [==============================] - 7s 484us/step - loss: 0.0326 - acc: 0.9897\n",
            "Epoch 129/130\n",
            "13439/13439 [==============================] - 7s 491us/step - loss: 0.0260 - acc: 0.9919\n",
            "Epoch 130/130\n",
            "13439/13439 [==============================] - 7s 509us/step - loss: 0.0153 - acc: 0.9951\n"
          ],
          "name": "stdout"
        },
        {
          "output_type": "execute_result",
          "data": {
            "text/plain": [
              "<keras.callbacks.History at 0x7fbef8f421d0>"
            ]
          },
          "metadata": {
            "tags": []
          },
          "execution_count": 75
        }
      ]
    },
    {
      "metadata": {
        "id": "qg1sTmETQIYr",
        "colab_type": "code",
        "outputId": "eba310f3-4e98-45b3-e8fa-a188bdeb9630",
        "colab": {
          "base_uri": "https://localhost:8080/",
          "height": 52
        }
      },
      "cell_type": "code",
      "source": [
        "classifier.evaluate(X_test, y_test )"
      ],
      "execution_count": 0,
      "outputs": [
        {
          "output_type": "stream",
          "text": [
            "3359/3359 [==============================] - 2s 460us/step\n"
          ],
          "name": "stdout"
        },
        {
          "output_type": "execute_result",
          "data": {
            "text/plain": [
              "[1.332455871714904, 0.7850550759509406]"
            ]
          },
          "metadata": {
            "tags": []
          },
          "execution_count": 76
        }
      ]
    },
    {
      "metadata": {
        "id": "76j0OcSL6HEr",
        "colab_type": "text"
      },
      "cell_type": "markdown",
      "source": [
        "**Accuracy on Training set : 99.5  , After validation on Test set : 78.5% **"
      ]
    }
  ]
}